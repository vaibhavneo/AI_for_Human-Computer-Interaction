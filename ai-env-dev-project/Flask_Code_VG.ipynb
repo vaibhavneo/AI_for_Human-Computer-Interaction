{
 "cells": [
  {
   "cell_type": "code",
   "execution_count": 1,
   "id": "c318e708-0c7d-4635-9744-48a3fc49f7b3",
   "metadata": {},
   "outputs": [
    {
     "name": "stdout",
     "output_type": "stream",
     "text": [
      "Requirement already satisfied: Flask in c:\\users\\vaibh\\anaconda3\\lib\\site-packages (3.1.0)\n",
      "Requirement already satisfied: Werkzeug>=3.1 in c:\\users\\vaibh\\anaconda3\\lib\\site-packages (from Flask) (3.1.3)\n",
      "Requirement already satisfied: Jinja2>=3.1.2 in c:\\users\\vaibh\\anaconda3\\lib\\site-packages (from Flask) (3.1.6)\n",
      "Requirement already satisfied: itsdangerous>=2.2 in c:\\users\\vaibh\\anaconda3\\lib\\site-packages (from Flask) (2.2.0)\n",
      "Requirement already satisfied: click>=8.1.3 in c:\\users\\vaibh\\anaconda3\\lib\\site-packages (from Flask) (8.1.8)\n",
      "Requirement already satisfied: blinker>=1.9 in c:\\users\\vaibh\\anaconda3\\lib\\site-packages (from Flask) (1.9.0)\n",
      "Requirement already satisfied: colorama in c:\\users\\vaibh\\anaconda3\\lib\\site-packages (from click>=8.1.3->Flask) (0.4.6)\n",
      "Requirement already satisfied: MarkupSafe>=2.0 in c:\\users\\vaibh\\anaconda3\\lib\\site-packages (from Jinja2>=3.1.2->Flask) (3.0.2)\n"
     ]
    }
   ],
   "source": [
    "# Install Flask (run this in Jupyter or terminal once)\n",
    "!pip install Flask\n"
   ]
  },
  {
   "cell_type": "code",
   "execution_count": null,
   "id": "f08239d7-134b-440d-9439-ef40227427b8",
   "metadata": {},
   "outputs": [
    {
     "name": "stdout",
     "output_type": "stream",
     "text": [
      " * Serving Flask app '__main__'\n",
      " * Debug mode: off\n"
     ]
    },
    {
     "name": "stderr",
     "output_type": "stream",
     "text": [
      "WARNING: This is a development server. Do not use it in a production deployment. Use a production WSGI server instead.\n",
      " * Running on http://127.0.0.1:5000\n",
      "Press CTRL+C to quit\n"
     ]
    }
   ],
   "source": [
    "from flask import Flask, render_template\n",
    "import logging, os\n",
    "\n",
    "app = Flask(__name__)\n",
    "logging.getLogger(__name__).setLevel(logging.INFO)\n",
    "\n",
    "@app.route(\"/\")\n",
    "def home():\n",
    "    return \"<h1>Hello, Flask from Jupyter!</h1>\"\n",
    "\n",
    "# Jupyter-safe runner\n",
    "def run_app():\n",
    "    # no reloader, no debug auto-restart\n",
    "    app.run(host=\"127.0.0.1\", port=5000, debug=False, use_reloader=False)\n",
    "\n",
    "run_app()\n"
   ]
  },
  {
   "cell_type": "code",
   "execution_count": null,
   "id": "67c9be1d-fcc3-4c53-8490-c427aab4c0af",
   "metadata": {},
   "outputs": [],
   "source": []
  }
 ],
 "metadata": {
  "kernelspec": {
   "display_name": "Python 3 (ipykernel)",
   "language": "python",
   "name": "python3"
  },
  "language_info": {
   "codemirror_mode": {
    "name": "ipython",
    "version": 3
   },
   "file_extension": ".py",
   "mimetype": "text/x-python",
   "name": "python",
   "nbconvert_exporter": "python",
   "pygments_lexer": "ipython3",
   "version": "3.13.5"
  }
 },
 "nbformat": 4,
 "nbformat_minor": 5
}
